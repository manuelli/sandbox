{
 "cells": [
  {
   "cell_type": "code",
   "execution_count": 1,
   "metadata": {
    "collapsed": false
   },
   "outputs": [],
   "source": [
    "%load_ext autoreload\n",
    "%autoreload 2\n",
    "import forcespro as fp\n",
    "import numpy as np\n",
    "import importlib\n",
    "import os\n",
    "modelData = {}"
   ]
  },
  {
   "cell_type": "code",
   "execution_count": 2,
   "metadata": {
    "collapsed": false
   },
   "outputs": [
    {
     "name": "stdout",
     "output_type": "stream",
     "text": [
      "\n",
      "\n",
      "contact_detector_1_point_solver - A customized optimization solver for linear MPC problems\n",
      "Copyright (C) embotech GmbH [info@embotech.com], 2013-2015. All rights reserved.\n",
      "Solver up to date. No need to perform code generation.             [OK]\n",
      "{'alpha': array([ 1.00000032,  2.00000002,  3.00000001,  4.00000001])} 1 <contact_detector_1_point_solver_py.contact_detector_1_point_solver_info object at 0x7f9872dae560>\n"
     ]
    },
    {
     "name": "stderr",
     "output_type": "stream",
     "text": [
      "/usr/lib/python2.7/dist-packages/numpy/ctypeslib.py:416: RuntimeWarning: Item size computed from the PEP 3118 buffer format string does not match the actual item size.\n",
      "  return array(obj, copy=False)\n"
     ]
    }
   ],
   "source": [
    "NUM_FRICTION_CONE_BASIS_VECTORS = 4\n",
    "\n",
    "stages = fp.MultistageProblem(1)\n",
    "stages.dims[0]['n'] = NUM_FRICTION_CONE_BASIS_VECTORS  # dimension of decision variables\n",
    "stages.dims[0]['r'] = 0  # number of eq constraints\n",
    "stages.dims[0]['l'] = NUM_FRICTION_CONE_BASIS_VECTORS  # number of lower bounds\n",
    "stages.dims[0]['u'] = 0  # number of upper bounds\n",
    "stages.dims[0]['p'] = 0  # number of polytopic constraints\n",
    "stages.dims[0]['q'] = 0  # number of quadratic constraints\n",
    "\n",
    "# quadratic cost term (will get filled in later as a parameter)\n",
    "stages.cost[0]['H'] = np.zeros((NUM_FRICTION_CONE_BASIS_VECTORS, NUM_FRICTION_CONE_BASIS_VECTORS)) \n",
    "\n",
    "# linear cost term (will get filled in later as a parameter)\n",
    "stages.cost[0]['f'] = np.zeros((NUM_FRICTION_CONE_BASIS_VECTORS,))\n",
    "\n",
    "stages.ineq[0]['b']['lbidx'] = range(1, NUM_FRICTION_CONE_BASIS_VECTORS + 1)\n",
    "stages.ineq[0]['b']['lb'] = np.zeros((NUM_FRICTION_CONE_BASIS_VECTORS,))\n",
    "\n",
    "stages.newParam(\"GTransposeSigmaInverseG\", [1], 'cost.H')\n",
    "stages.newParam(\"minusTwoGammaTransposeSigmaInverseG\", [1], 'cost.f')\n",
    "\n",
    "stages.newOutput(\"alpha\", 1, range(1, NUM_FRICTION_CONE_BASIS_VECTORS+1))\n",
    "\n",
    "# solver settings\n",
    "stages.codeoptions['name'] = 'contact_detector_1_point_solver'\n",
    "stages.codeoptions['printlevel'] = 0\n",
    "stages.codeoptions['optlevel'] = 3\n",
    "stages.codeoptions['overwrite'] = 1\n",
    "\n",
    "\n",
    "# generate code\n",
    "import get_userid\n",
    "stages.generateCode(get_userid.userid)\n",
    "\n",
    "# demonstrate using the solver, and run some timing tests\n",
    "import contact_detector_1_point_solver_py\n",
    "problem = contact_detector_1_point_solver_py.contact_detector_1_point_solver_params\n",
    "gamma = np.array([0,0,1])\n",
    "sigma_inv = np.eye(3)\n",
    "F = np.vstack(([1,0,1], [0,1,1], [-1,0,1], [0,-1,1])).T\n",
    "Jc = np.eye(3)\n",
    "G = Jc.dot(F)\n",
    "\n",
    "f = np.arange(1,NUM_FRICTION_CONE_BASIS_VECTORS+1)\n",
    "problem[\"GTransposeSigmaInverseG\"] = 2.0*np.eye(4)\n",
    "problem[\"minusTwoGammaTransposeSigmaInverseG\"] = -2*f\n",
    "\n",
    "[solverout, exitflag, info] = contact_detector_1_point_solver_py.contact_detector_1_point_solver_solve(problem)\n",
    "print solverout, exitflag, info\n",
    "alpha = solverout[\"alpha\"]\n",
    "\n",
    "\n",
    "d = dict()\n",
    "d['module'] = contact_detector_1_point_solver_py\n",
    "d['solveMethod'] = contact_detector_1_point_solver_py.contact_detector_1_point_solver_solve\n",
    "d['problem'] = problem\n",
    "\n",
    "modelData[1] = d"
   ]
  },
  {
   "cell_type": "code",
   "execution_count": 3,
   "metadata": {
    "collapsed": false
   },
   "outputs": [
    {
     "name": "stdout",
     "output_type": "stream",
     "text": [
      "\n",
      "\n",
      "contact_detector_2_point_solver - A customized optimization solver for linear MPC problems\n",
      "Copyright (C) embotech GmbH [info@embotech.com], 2013-2015. All rights reserved.\n",
      "Solver up to date. No need to perform code generation.             [OK]\n",
      "{'alpha': array([ 1.00000028,  2.00000001,  3.        ,  4.        ,  5.        ,\n",
      "        6.        ,  7.        ,  8.        ])} 1 <contact_detector_2_point_solver_py.contact_detector_2_point_solver_info object at 0x7f9872dae680>\n"
     ]
    }
   ],
   "source": [
    "NUM_FRICTION_CONE_BASIS_VECTORS = 8\n",
    "\n",
    "stages = fp.MultistageProblem(1)\n",
    "stages.dims[0]['n'] = NUM_FRICTION_CONE_BASIS_VECTORS  # dimension of decision variables\n",
    "stages.dims[0]['r'] = 0  # number of eq constraints\n",
    "stages.dims[0]['l'] = NUM_FRICTION_CONE_BASIS_VECTORS  # number of lower bounds\n",
    "stages.dims[0]['u'] = 0  # number of upper bounds\n",
    "stages.dims[0]['p'] = 0  # number of polytopic constraints\n",
    "stages.dims[0]['q'] = 0  # number of quadratic constraints\n",
    "\n",
    "# quadratic cost term (will get filled in later as a parameter)\n",
    "stages.cost[0]['H'] = np.zeros((NUM_FRICTION_CONE_BASIS_VECTORS, NUM_FRICTION_CONE_BASIS_VECTORS)) \n",
    "\n",
    "# linear cost term (will get filled in later as a parameter)\n",
    "stages.cost[0]['f'] = np.zeros((NUM_FRICTION_CONE_BASIS_VECTORS,))\n",
    "\n",
    "stages.ineq[0]['b']['lbidx'] = range(1, NUM_FRICTION_CONE_BASIS_VECTORS + 1)\n",
    "stages.ineq[0]['b']['lb'] = np.zeros((NUM_FRICTION_CONE_BASIS_VECTORS,))\n",
    "\n",
    "stages.newParam(\"GTransposeSigmaInverseG\", [1], 'cost.H')\n",
    "stages.newParam(\"minusTwoGammaTransposeSigmaInverseG\", [1], 'cost.f')\n",
    "\n",
    "stages.newOutput(\"alpha\", 1, range(1, NUM_FRICTION_CONE_BASIS_VECTORS+1))\n",
    "\n",
    "# solver settings\n",
    "stages.codeoptions['name'] = 'contact_detector_2_point_solver'\n",
    "stages.codeoptions['printlevel'] = 0\n",
    "stages.codeoptions['optlevel'] = 3\n",
    "stages.codeoptions['overwrite'] = 1\n",
    "\n",
    "\n",
    "# generate code\n",
    "import get_userid\n",
    "\n",
    "stages.generateCode(get_userid.userid)\n",
    "\n",
    "# demonstrate using the solver, and run some timing tests\n",
    "import contact_detector_2_point_solver_py\n",
    "problem = contact_detector_2_point_solver_py.contact_detector_2_point_solver_params\n",
    "gamma = np.array([0,0,1])\n",
    "sigma_inv = np.eye(3)\n",
    "F = np.vstack(([1,0,1], [0,1,1], [-1,0,1], [0,-1,1])).T\n",
    "Jc = np.eye(3)\n",
    "G = Jc.dot(F)\n",
    "\n",
    "f = np.arange(1,NUM_FRICTION_CONE_BASIS_VECTORS+1)\n",
    "problem[\"GTransposeSigmaInverseG\"] = 2.0*np.eye(NUM_FRICTION_CONE_BASIS_VECTORS)\n",
    "problem[\"minusTwoGammaTransposeSigmaInverseG\"] = -2*f\n",
    "\n",
    "[solverout, exitflag, info] = contact_detector_2_point_solver_py.contact_detector_2_point_solver_solve(problem)\n",
    "print solverout, exitflag, info\n",
    "alpha = solverout[\"alpha\"]\n",
    "\n",
    "\n",
    "d = dict()\n",
    "d['module'] = contact_detector_2_point_solver_py\n",
    "d['solveMethod'] = contact_detector_2_point_solver_py.contact_detector_2_point_solver_solve\n",
    "d['problem'] = problem\n",
    "\n",
    "modelData[2] = d"
   ]
  },
  {
   "cell_type": "code",
   "execution_count": 5,
   "metadata": {
    "collapsed": false
   },
   "outputs": [
    {
     "ename": "ArgumentError",
     "evalue": "argument 4: <type 'exceptions.TypeError'>: expected LP_FILE instance instead of LP_FILE",
     "output_type": "error",
     "traceback": [
      "\u001b[1;31m---------------------------------------------------------------------------\u001b[0m",
      "\u001b[1;31mArgumentError\u001b[0m                             Traceback (most recent call last)",
      "\u001b[1;32m<ipython-input-5-d0efa2fc4111>\u001b[0m in \u001b[0;36m<module>\u001b[1;34m()\u001b[0m\n\u001b[0;32m      2\u001b[0m \u001b[1;31m# creating a second model after the first one and then trying to solve the first one produces an error\u001b[0m\u001b[1;33m\u001b[0m\u001b[1;33m\u001b[0m\u001b[0m\n\u001b[0;32m      3\u001b[0m \u001b[0mm\u001b[0m \u001b[1;33m=\u001b[0m \u001b[0mmodelData\u001b[0m\u001b[1;33m[\u001b[0m\u001b[1;36m1\u001b[0m\u001b[1;33m]\u001b[0m\u001b[1;33m\u001b[0m\u001b[0m\n\u001b[1;32m----> 4\u001b[1;33m \u001b[0mm\u001b[0m\u001b[1;33m[\u001b[0m\u001b[1;34m'solveMethod'\u001b[0m\u001b[1;33m]\u001b[0m\u001b[1;33m(\u001b[0m\u001b[0mm\u001b[0m\u001b[1;33m[\u001b[0m\u001b[1;34m'problem'\u001b[0m\u001b[1;33m]\u001b[0m\u001b[1;33m)\u001b[0m\u001b[1;33m\u001b[0m\u001b[0m\n\u001b[0m",
      "\u001b[1;32m/home/manuelli/code/sandbox/contact_detector_1_point_solver_py.pyc\u001b[0m in \u001b[0;36mcontact_detector_1_point_solver_solve\u001b[1;34m(params_arg)\u001b[0m\n\u001b[0;32m    193\u001b[0m                         \u001b[0mfp\u001b[0m \u001b[1;33m=\u001b[0m \u001b[0msys\u001b[0m\u001b[1;33m.\u001b[0m\u001b[0mstdout\u001b[0m\u001b[1;33m\u001b[0m\u001b[0m\n\u001b[0;32m    194\u001b[0m                 \u001b[1;32mtry\u001b[0m\u001b[1;33m:\u001b[0m\u001b[1;33m\u001b[0m\u001b[0m\n\u001b[1;32m--> 195\u001b[1;33m                         \u001b[0mexitflag\u001b[0m \u001b[1;33m=\u001b[0m \u001b[0m_lib\u001b[0m\u001b[1;33m.\u001b[0m\u001b[0mcontact_detector_1_point_solver_solve\u001b[0m\u001b[1;33m(\u001b[0m \u001b[0mparams_py\u001b[0m\u001b[1;33m,\u001b[0m \u001b[0mctypes\u001b[0m\u001b[1;33m.\u001b[0m\u001b[0mbyref\u001b[0m\u001b[1;33m(\u001b[0m\u001b[0moutputs_py\u001b[0m\u001b[1;33m)\u001b[0m\u001b[1;33m,\u001b[0m \u001b[0mctypes\u001b[0m\u001b[1;33m.\u001b[0m\u001b[0mbyref\u001b[0m\u001b[1;33m(\u001b[0m\u001b[0minfo_py\u001b[0m\u001b[1;33m)\u001b[0m\u001b[1;33m,\u001b[0m \u001b[0mPyFile_AsFile\u001b[0m\u001b[1;33m(\u001b[0m\u001b[0mfp\u001b[0m\u001b[1;33m)\u001b[0m \u001b[1;33m)\u001b[0m\u001b[1;33m\u001b[0m\u001b[0m\n\u001b[0m\u001b[0;32m    196\u001b[0m                         \u001b[1;31m#fp = open('stdout_temp.txt','r')\u001b[0m\u001b[1;33m\u001b[0m\u001b[1;33m\u001b[0m\u001b[0m\n\u001b[0;32m    197\u001b[0m                         \u001b[1;31m#print (fp.read())\u001b[0m\u001b[1;33m\u001b[0m\u001b[1;33m\u001b[0m\u001b[0m\n",
      "\u001b[1;31mArgumentError\u001b[0m: argument 4: <type 'exceptions.TypeError'>: expected LP_FILE instance instead of LP_FILE"
     ]
    }
   ],
   "source": [
    "# this will error out\n",
    "# creating a second model after the first one and then trying to solve the first one produces an error\n",
    "m = modelData[1]\n",
    "m['solveMethod'](m['problem'])"
   ]
  },
  {
   "cell_type": "code",
   "execution_count": 6,
   "metadata": {
    "collapsed": false
   },
   "outputs": [
    {
     "data": {
      "text/plain": [
       "({'alpha': array([ 1.00000028,  2.00000001,  3.        ,  4.        ,  5.        ,\n",
       "          6.        ,  7.        ,  8.        ])},\n",
       " 1,\n",
       " <contact_detector_2_point_solver_py.contact_detector_2_point_solver_info at 0x7f9872dae950>)"
      ]
     },
     "execution_count": 6,
     "metadata": {},
     "output_type": "execute_result"
    }
   ],
   "source": [
    "# this will work\n",
    "m = modelData[2]\n",
    "m['solveMethod'](m['problem'])"
   ]
  }
 ],
 "metadata": {
  "kernelspec": {
   "display_name": "Python 2",
   "language": "python",
   "name": "python2"
  },
  "language_info": {
   "codemirror_mode": {
    "name": "ipython",
    "version": 2
   },
   "file_extension": ".py",
   "mimetype": "text/x-python",
   "name": "python",
   "nbconvert_exporter": "python",
   "pygments_lexer": "ipython2",
   "version": "2.7.6"
  }
 },
 "nbformat": 4,
 "nbformat_minor": 0
}
