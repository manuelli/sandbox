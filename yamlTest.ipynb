{
 "cells": [
  {
   "cell_type": "code",
   "execution_count": 1,
   "metadata": {
    "collapsed": false
   },
   "outputs": [],
   "source": [
    "import yaml\n",
    "import sys\n",
    "import os"
   ]
  },
  {
   "cell_type": "code",
   "execution_count": 2,
   "metadata": {
    "collapsed": false
   },
   "outputs": [
    {
     "name": "stdout",
     "output_type": "stream",
     "text": [
      "/home/manuelli/drc\n"
     ]
    }
   ],
   "source": [
    "# add that folder to our path\n",
    "drcBase = os.getenv('DRC_BASE')\n",
    "print drcBase\n",
    "sys.path.append(drcBase+'software/control/residual_detector/config')"
   ]
  },
  {
   "cell_type": "code",
   "execution_count": 3,
   "metadata": {
    "collapsed": false
   },
   "outputs": [
    {
     "name": "stdout",
     "output_type": "stream",
     "text": [
      "{'gain': 20.0, 'useFootForceTorque': True}\n",
      "{'control_config_filename': '/software/drake/drake/examples/Atlas/config/control_config_sim.yaml', 'urdf': '/software/models/atlas_v5/model_LR_RR.urdf', 'robot_type': 'atlas_v5', 'rightFootName': 'r_foot', 'leftFootName': 'l_foot'}\n"
     ]
    }
   ],
   "source": [
    "fileName = 'residual_detector_config_atlas_v5.yaml'\n",
    "fullFileName = drcBase+'/software/control/residual_detector/config/' + fileName\n",
    "stream = file(fullFileName)\n",
    "d = yaml.load(stream)\n",
    "print d['residual_detector']\n",
    "print d['robot_data']"
   ]
  },
  {
   "cell_type": "code",
   "execution_count": 11,
   "metadata": {
    "collapsed": false
   },
   "outputs": [
    {
     "name": "stdout",
     "output_type": "stream",
     "text": [
      "{'maxNumParticleSets': 4, 'forceThreshold': 1.0, 'useTrueResidual': False}\n",
      "{'vis': {'draw': False, 'publish': True}, 'noise': {'addNoise': False, 'stddev': 0.2}, 'numParticles': 100.0, 'debug': {'maxNumParticleSets': 4, 'forceThreshold': 1.0, 'useTrueResidual': False}, 'thresholds': {'removeContactPointSquaredError': 20.0, 'removeContactPointTimeout': 0.25, 'squaredErrorBoundForMostLikelyParticleAveraging': 10.0, 'addContactPointTimeout': 0.25, 'timeAboveThresholdToAddParticleSet': 0.1, 'lastTimeBelowThreshold': -100.0, 'addContactPointSquaredError': 20.0, 'removeContactPointForce': 5.0}, 'measurementModel': {'var': 0.05}, 'motionModel': {'var': 0.05, 'varMax': 0.05, 'varMin': 0.01, 'varMaxSquaredErrorCutoff': 10.0}}\n"
     ]
    }
   ],
   "source": [
    "# Some experiments with contact particle filter config file\n",
    "\n",
    "fileName = 'contact_particle_filter_config.yaml'\n",
    "fullFileName = drcBase+'/software/control/residual_detector/config/' + fileName\n",
    "stream = file(fullFileName)\n",
    "cpfConfig = yaml.load(stream)\n",
    "\n",
    "thresholdYAML = cpfConfig['thresholds']\n",
    "thresholdDict = dict()\n",
    "\n",
    "for key, val in thresholdYAML.iteritems():\n",
    "    thresholdDict[key] = val\n",
    "    \n",
    "# print thresholdDict\n",
    "\n",
    "debugYAML = cpfConfig['debug']\n",
    "debugDict = dict()\n",
    "\n",
    "for key, val in debugYAML.iteritems():\n",
    "    debugDict[key] = val\n",
    "    \n",
    "print debugDict\n",
    "\n",
    "print cpfConfig"
   ]
  },
  {
   "cell_type": "code",
   "execution_count": null,
   "metadata": {
    "collapsed": true
   },
   "outputs": [],
   "source": []
  },
  {
   "cell_type": "code",
   "execution_count": null,
   "metadata": {
    "collapsed": true
   },
   "outputs": [],
   "source": []
  }
 ],
 "metadata": {
  "kernelspec": {
   "display_name": "Python 2",
   "language": "python",
   "name": "python2"
  },
  "language_info": {
   "codemirror_mode": {
    "name": "ipython",
    "version": 2
   },
   "file_extension": ".py",
   "mimetype": "text/x-python",
   "name": "python",
   "nbconvert_exporter": "python",
   "pygments_lexer": "ipython2",
   "version": "2.7.6"
  }
 },
 "nbformat": 4,
 "nbformat_minor": 0
}
